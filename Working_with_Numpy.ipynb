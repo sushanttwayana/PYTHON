{
  "nbformat": 4,
  "nbformat_minor": 0,
  "metadata": {
    "colab": {
      "provenance": [],
      "authorship_tag": "ABX9TyM8JvmKh89vaKFFDjnpKBn4",
      "include_colab_link": true
    },
    "kernelspec": {
      "name": "python3",
      "display_name": "Python 3"
    },
    "language_info": {
      "name": "python"
    }
  },
  "cells": [
    {
      "cell_type": "markdown",
      "metadata": {
        "id": "view-in-github",
        "colab_type": "text"
      },
      "source": [
        "<a href=\"https://colab.research.google.com/github/sushanttwayana/PYTHON/blob/main/Working_with_Numpy.ipynb\" target=\"_parent\"><img src=\"https://colab.research.google.com/assets/colab-badge.svg\" alt=\"Open In Colab\"/></a>"
      ]
    },
    {
      "cell_type": "code",
      "execution_count": 2,
      "metadata": {
        "colab": {
          "base_uri": "https://localhost:8080/"
        },
        "id": "mFNHjT6p73F7",
        "outputId": "49a335e8-f250-424f-fe34-09f86f92e8f4"
      },
      "outputs": [
        {
          "output_type": "stream",
          "name": "stdout",
          "text": [
            "1\n",
            "3\n",
            "15\n",
            "105\n",
            "945\n"
          ]
        }
      ],
      "source": [
        "# Cumulative Product\n",
        "\n",
        "def cum_product(list):\n",
        "  p = 1\n",
        "\n",
        "  for i in list :\n",
        "    p *= i\n",
        "    print(p)\n",
        "\n",
        "list1= [1, 3, 5, 7, 9]\n",
        "cum_product(list1)"
      ]
    },
    {
      "cell_type": "code",
      "source": [
        "# Checking Duplicates in thel list\n",
        "\n",
        "def check_duplicates(list):\n",
        "   flag = 0\n",
        "\n",
        "   for elem in list:\n",
        "\n",
        "      counter = list.count(elem)\n",
        "\n",
        "      if counter > 1:\n",
        "        flag = 1\n",
        "        break\n",
        "\n",
        "   if flag == 1:\n",
        "      print(\"There exists duplicate elements in the list\")\n",
        "\n",
        "   else :\n",
        "    print (\"No duplicates exists in the list\")\n",
        "\n",
        "\n",
        "list1 = [1, 2, 3, 4 ,5 ,6 ,7, 8]\n",
        "check_duplicates(list1)\n"
      ],
      "metadata": {
        "colab": {
          "base_uri": "https://localhost:8080/"
        },
        "id": "-QpuyGIe81M4",
        "outputId": "42656462-ba1f-4f36-f5d2-e9bd60407a80"
      },
      "execution_count": 3,
      "outputs": [
        {
          "output_type": "stream",
          "name": "stdout",
          "text": [
            "No duplicates exists in the list\n"
          ]
        }
      ]
    },
    {
      "cell_type": "code",
      "source": [
        "\n",
        "def check_duplicates(list):\n",
        "   flag = 0\n",
        "   list2 = []\n",
        "\n",
        "   for elem in list:\n",
        "      counter = list.count(elem)\n",
        "\n",
        "      if counter > 1 and elem not in list2:\n",
        "        list2.append(elem)\n",
        "\n",
        "   print(\"the repeated elements of the list are:\", list2)\n",
        "\n",
        "list1 = [1, 2, 3, 2 ,5 ,6 ,7, 7,0 , 1]\n",
        "check_duplicates(list1)"
      ],
      "metadata": {
        "colab": {
          "base_uri": "https://localhost:8080/"
        },
        "id": "5IfRVm8P-HrY",
        "outputId": "a28feb62-7cae-40c4-945c-d083f64122cf"
      },
      "execution_count": 7,
      "outputs": [
        {
          "output_type": "stream",
          "name": "stdout",
          "text": [
            "the repeated elements of the list are: [1, 2, 7]\n"
          ]
        }
      ]
    },
    {
      "cell_type": "code",
      "source": [
        "# gcd of two numbers\n",
        "\n",
        "import math\n",
        "\n",
        "a = int(input(\"Enter first number:\"))\n",
        "b = int(input(\"Enter second number:\"))\n",
        "\n",
        "result = math.gcd(a, b)\n",
        "print(\"GCD of %d and %d is %d\" %(a, b, result))\n"
      ],
      "metadata": {
        "colab": {
          "base_uri": "https://localhost:8080/"
        },
        "id": "3O889T8HCbqe",
        "outputId": "852d5ee3-2180-4591-ed17-29614cf07525"
      },
      "execution_count": 9,
      "outputs": [
        {
          "output_type": "stream",
          "name": "stdout",
          "text": [
            "Enter first number:100\n",
            "Enter second number:20\n",
            "GCD of 100 and 20 is 20\n"
          ]
        }
      ]
    },
    {
      "cell_type": "code",
      "source": [
        "\n",
        "# NumPy (Numerical Python) is a fundamental library in Python used for numerical and scientific computing. It provides support for large,\n",
        "#  multi-dimensional arrays and matrices, along with a collection of mathematical functions to operate on these arrays.\n",
        "#   NumPy is a crucial building block for data analysis, scientific computing, and machine learning in Python."
      ],
      "metadata": {
        "id": "30TsmWt7y9T-"
      },
      "execution_count": null,
      "outputs": []
    },
    {
      "cell_type": "code",
      "source": [
        "# creating and accessing 1D array\n",
        "\n",
        "import numpy as np\n",
        "\n",
        "arr = np.array([1, 2, 3, 4, 5])\n",
        "print(arr)\n",
        "print(\"First Element:\", arr[0])\n",
        "print(\"Second Element:\", arr[1])"
      ],
      "metadata": {
        "colab": {
          "base_uri": "https://localhost:8080/"
        },
        "id": "IBzSoqwTM5ep",
        "outputId": "b171c560-ee76-4b26-dbb6-7911e3df6b90"
      },
      "execution_count": 11,
      "outputs": [
        {
          "output_type": "stream",
          "name": "stdout",
          "text": [
            "[1 2 3 4 5]\n",
            "First Element: 1\n",
            "Second Element: 2\n"
          ]
        }
      ]
    },
    {
      "cell_type": "code",
      "source": [
        "# creating and accessing 1D array\n",
        "\n",
        "import numpy as np\n",
        "\n",
        "arr = np.array([[1, 2, 3], [4, 5, 6]])\n",
        "print(arr)\n",
        "\n",
        "print(arr[0][0])\n",
        "print(arr[0][1])\n",
        "print(arr[0][2])\n",
        "print(arr[1][0])"
      ],
      "metadata": {
        "colab": {
          "base_uri": "https://localhost:8080/"
        },
        "id": "hWl7ax8qNayR",
        "outputId": "ad1d1e53-e346-4169-cb64-4e1849a8b897"
      },
      "execution_count": 13,
      "outputs": [
        {
          "output_type": "stream",
          "name": "stdout",
          "text": [
            "[[1 2 3]\n",
            " [4 5 6]]\n",
            "1\n",
            "2\n",
            "3\n",
            "4\n"
          ]
        }
      ]
    },
    {
      "cell_type": "code",
      "source": [
        "# identify dimension of array\n",
        "\n",
        "import numpy as np\n",
        "\n",
        "b = np.array([[1,2,3], [8, 9, 0]])\n",
        "\n",
        "# arrayname.ndim\n",
        "\n",
        "print(\"The dimension is:\", b.ndim)"
      ],
      "metadata": {
        "colab": {
          "base_uri": "https://localhost:8080/"
        },
        "id": "iRPVwWf4ODwr",
        "outputId": "28f0d979-3f81-43d4-ab31-66856a765198"
      },
      "execution_count": 15,
      "outputs": [
        {
          "output_type": "stream",
          "name": "stdout",
          "text": [
            "The dimension is: 2\n"
          ]
        }
      ]
    },
    {
      "cell_type": "code",
      "source": [
        "# negative indexing of an array\n",
        "\n",
        "import numpy as np\n",
        "\n",
        "arr = np.array([1, 2, 3, 4, 5])\n",
        "print(arr[-1])"
      ],
      "metadata": {
        "colab": {
          "base_uri": "https://localhost:8080/"
        },
        "id": "kAQ7x0KMO338",
        "outputId": "64ebb2b3-33e2-479f-b24e-8ab6c9c15bcd"
      },
      "execution_count": 16,
      "outputs": [
        {
          "output_type": "stream",
          "name": "stdout",
          "text": [
            "5\n"
          ]
        }
      ]
    },
    {
      "cell_type": "code",
      "source": [
        "# negative indexing of an array 2D array\n",
        "\n",
        "import numpy as np\n",
        "\n",
        "arr = np.array([[1, 2, 3, 4, 5], [6, 7, 8, 9, 10]])\n",
        "\n",
        "print(arr[0][-1])\n",
        "print(arr[1][-1])"
      ],
      "metadata": {
        "colab": {
          "base_uri": "https://localhost:8080/"
        },
        "id": "irhlcCyNPojK",
        "outputId": "b79bfeb2-cb1f-4cc2-dead-0b60cf62d739"
      },
      "execution_count": 21,
      "outputs": [
        {
          "output_type": "stream",
          "name": "stdout",
          "text": [
            "5\n",
            "10\n"
          ]
        }
      ]
    },
    {
      "cell_type": "code",
      "source": [
        "# slicing of an array\n",
        "# if statring index is not given it is considered as zero and for ending index not given it will consider len(array)\n",
        "# for default step-size is 1\n",
        "# [start : end : step-size]\n",
        "\n",
        "import numpy as np\n",
        "\n",
        "arr = np.array([1, 3, 5, 7 ,9,11, 12])\n",
        "\n",
        "print(arr[1 : 5])\n",
        "print(arr[4 : ])\n",
        "print(arr[1 : 5 : 2]) # dispaly less than index 5"
      ],
      "metadata": {
        "colab": {
          "base_uri": "https://localhost:8080/"
        },
        "id": "FGM4Q3VdQifS",
        "outputId": "336ab449-7355-46c2-ee45-489482ffeb1f"
      },
      "execution_count": 24,
      "outputs": [
        {
          "output_type": "stream",
          "name": "stdout",
          "text": [
            "[3 5 7 9]\n",
            "[ 9 11 12]\n",
            "[3 7]\n"
          ]
        }
      ]
    },
    {
      "cell_type": "code",
      "source": [
        "import numpy as np\n",
        "\n",
        "a = np.array([1, 2, 3 , 6])\n",
        "\n",
        "print(a.dtype)"
      ],
      "metadata": {
        "colab": {
          "base_uri": "https://localhost:8080/"
        },
        "id": "V7utIrrHgQhK",
        "outputId": "e0a30c7a-b1af-4aa1-b43a-356406bfe31d"
      },
      "execution_count": 25,
      "outputs": [
        {
          "output_type": "stream",
          "name": "stdout",
          "text": [
            "int64\n"
          ]
        }
      ]
    },
    {
      "cell_type": "code",
      "source": [
        "import numpy as np\n",
        "\n",
        "# Create a list of Python objects\n",
        "objects_list = [1, 'apple', [1, 2, 3], {'name': 'John', 'age': 30}]\n",
        "\n",
        "\n",
        "# Create a NumPy object array\n",
        "obj_array = np.array(objects_list, dtype=object)\n",
        "\n",
        "# datatype\n",
        "\n",
        "print(obj_array.dtype)\n",
        "\n",
        "# Print the NumPy object array\n",
        "print(obj_array)\n"
      ],
      "metadata": {
        "colab": {
          "base_uri": "https://localhost:8080/"
        },
        "id": "zMSdoZZsgbzy",
        "outputId": "4a486613-b426-485f-cc1d-b7ad41ebb724"
      },
      "execution_count": 28,
      "outputs": [
        {
          "output_type": "stream",
          "name": "stdout",
          "text": [
            "object\n",
            "[1 'apple' list([1, 2, 3]) {'name': 'John', 'age': 30}]\n"
          ]
        }
      ]
    },
    {
      "cell_type": "code",
      "source": [
        "# Copy contents of  aray\n",
        "\n",
        "import numpy as np\n",
        "\n",
        "a = np.array([1, 2, 3 , 4, 6])\n",
        "# x = a.copy()\n",
        "a[0] = 10\n",
        "x = a.copy()\n",
        "print(\"Contents of array a is:\", a)\n",
        "print(\"Contents of array x is:\", x)"
      ],
      "metadata": {
        "colab": {
          "base_uri": "https://localhost:8080/"
        },
        "id": "qQ_swQqag2p7",
        "outputId": "15e1f818-9179-4a7d-8726-fdac1adb73db"
      },
      "execution_count": 32,
      "outputs": [
        {
          "output_type": "stream",
          "name": "stdout",
          "text": [
            "Contents of array a is: [10  2  3  4  6]\n",
            "Contents of array x is: [10  2  3  4  6]\n"
          ]
        }
      ]
    },
    {
      "cell_type": "code",
      "source": [
        "# Iterate 1D array\n",
        "\n",
        "import numpy as np\n",
        "\n",
        "arr = np.array([1,2, 3, 4 ,5])\n",
        "\n",
        "for i in arr:\n",
        "\n",
        "  print(i, end = \" \")"
      ],
      "metadata": {
        "colab": {
          "base_uri": "https://localhost:8080/"
        },
        "id": "VSvts_DzhY_9",
        "outputId": "ecea63bf-f2d9-403f-b35e-43e8a1a61b6a"
      },
      "execution_count": 34,
      "outputs": [
        {
          "output_type": "stream",
          "name": "stdout",
          "text": [
            "1 2 3 4 5 "
          ]
        }
      ]
    },
    {
      "cell_type": "code",
      "source": [
        "# Iterate 2D array\n",
        "\n",
        "import numpy as np\n",
        "\n",
        "arr = np.array([[1, 2, 3], [4, 5, 6]])\n",
        "\n",
        "for i in arr:\n",
        "  print(i)"
      ],
      "metadata": {
        "colab": {
          "base_uri": "https://localhost:8080/"
        },
        "id": "grpfDGn5hmTQ",
        "outputId": "458ca40f-e0f9-4e34-ead5-86d5a82ede31"
      },
      "execution_count": 36,
      "outputs": [
        {
          "output_type": "stream",
          "name": "stdout",
          "text": [
            "[1 2 3]\n",
            "[4 5 6]\n"
          ]
        }
      ]
    },
    {
      "cell_type": "code",
      "source": [
        "# Finding shape of the array\n",
        "\n",
        "import numpy as np\n",
        "\n",
        "arr1 = np.array([[1, 2, 3, 4], [ 5, 6, 7 ,8]])\n",
        "\n",
        "print(arr1.shape)\n",
        "\n"
      ],
      "metadata": {
        "colab": {
          "base_uri": "https://localhost:8080/"
        },
        "id": "tRQKRuX4h2c8",
        "outputId": "fe5f86b4-9131-4348-af80-2327598482f9"
      },
      "execution_count": 38,
      "outputs": [
        {
          "output_type": "stream",
          "name": "stdout",
          "text": [
            "(2, 4)\n"
          ]
        }
      ]
    },
    {
      "cell_type": "code",
      "source": [
        "# Reshaping 1D to 2D\n",
        "\n",
        "import numpy as np\n",
        "\n",
        "a = np.array([1, 2, 3, 4, 5, 6 ,7 ,8 ,9, 10, 11, 12])\n",
        "\n",
        "b = a.reshape(3, 4)\n",
        "\n",
        "print(b)"
      ],
      "metadata": {
        "colab": {
          "base_uri": "https://localhost:8080/"
        },
        "id": "7cGFXzwriODT",
        "outputId": "27dec330-3c80-4827-9ede-c963e7a43a74"
      },
      "execution_count": 45,
      "outputs": [
        {
          "output_type": "stream",
          "name": "stdout",
          "text": [
            "[[ 1  2  3  4]\n",
            " [ 5  6  7  8]\n",
            " [ 9 10 11 12]]\n"
          ]
        }
      ]
    },
    {
      "cell_type": "code",
      "source": [
        "# Joining two arrays\n",
        "\n",
        "import numpy as np\n",
        "\n",
        "x = np.array([1, 3, 5, 7 ,9])\n",
        "y = np.array([0, 2, 4, 6 ,8])\n",
        "\n",
        "z = np.concatenate( (x, y) )\n",
        "\n",
        "print(z)"
      ],
      "metadata": {
        "colab": {
          "base_uri": "https://localhost:8080/"
        },
        "id": "75LW20oki-n8",
        "outputId": "d26fb2fe-99d0-4887-ff38-df9cbbd590c7"
      },
      "execution_count": 48,
      "outputs": [
        {
          "output_type": "stream",
          "name": "stdout",
          "text": [
            "[1 3 5 7 9 0 2 4 6 8]\n"
          ]
        }
      ]
    },
    {
      "cell_type": "code",
      "source": [
        "# spliting of an array\n",
        "import numpy as np\n",
        "\n",
        "arr = np.array([1 ,3 ,5 ,7 ,9 ,0 ,2 ,4 ,6, 8])\n",
        "\n",
        "arr2 = np.array_split(arr, 6)\n",
        "\n",
        "print(arr2)"
      ],
      "metadata": {
        "colab": {
          "base_uri": "https://localhost:8080/"
        },
        "id": "hxxltfMrjpx8",
        "outputId": "d65b6682-150e-4e20-9ec1-28a55ddcb7e3"
      },
      "execution_count": 53,
      "outputs": [
        {
          "output_type": "stream",
          "name": "stdout",
          "text": [
            "[array([1, 3]), array([5, 7]), array([9, 0]), array([2, 4]), array([6]), array([8])]\n"
          ]
        }
      ]
    },
    {
      "cell_type": "code",
      "source": [
        "# sorting of an array\n",
        "\n",
        "import numpy as np\n",
        "\n",
        "arr = np.array([1 ,3 ,5 ,7 ,9 ,0 ,2 ,4 ,6, 8])\n",
        "\n",
        "print(np.sort(arr))"
      ],
      "metadata": {
        "colab": {
          "base_uri": "https://localhost:8080/"
        },
        "id": "Xkh4pwNekejE",
        "outputId": "6a723d98-58ab-42fb-a75e-fbbada1ec785"
      },
      "execution_count": 54,
      "outputs": [
        {
          "output_type": "stream",
          "name": "stdout",
          "text": [
            "[0 1 2 3 4 5 6 7 8 9]\n"
          ]
        }
      ]
    },
    {
      "cell_type": "code",
      "source": [
        "# sorting of an array\n",
        "\n",
        "import numpy as np\n",
        "\n",
        "arr = np.array(['cat', 'bat', 'ant'])\n",
        "\n",
        "print(np.sort(arr))\n",
        "\n",
        "arr1 = np.array([[6, 2, 3], [9, 3, 6]])\n",
        "\n",
        "print(np.sort(arr1))"
      ],
      "metadata": {
        "colab": {
          "base_uri": "https://localhost:8080/"
        },
        "id": "UckQEdZqksML",
        "outputId": "1436fb50-b02c-4c6a-9c4a-5e91be27d072"
      },
      "execution_count": 56,
      "outputs": [
        {
          "output_type": "stream",
          "name": "stdout",
          "text": [
            "['ant' 'bat' 'cat']\n",
            "[[2 3 6]\n",
            " [3 6 9]]\n"
          ]
        }
      ]
    },
    {
      "cell_type": "code",
      "source": [
        "# Searching of an element in an array\n",
        "\n",
        "import numpy as np\n",
        "\n",
        "arr = np.array([1 ,3 ,5 ,7 ,9 ,0 ,2 ,4 ,6, 8, 4])\n",
        "\n",
        "# arr = np.sort(arr)\n",
        "# print(arr)\n",
        "\n",
        "x = np.where(arr == 4)\n",
        "\n",
        "print(x)"
      ],
      "metadata": {
        "colab": {
          "base_uri": "https://localhost:8080/"
        },
        "id": "cUZKjadvlKTk",
        "outputId": "99919eb9-743f-468f-9d02-e562173e9965"
      },
      "execution_count": 60,
      "outputs": [
        {
          "output_type": "stream",
          "name": "stdout",
          "text": [
            "(array([ 7, 10]),)\n"
          ]
        }
      ]
    },
    {
      "cell_type": "code",
      "source": [
        "# Find the indices where the values are even\n",
        "\n",
        "import numpy as np\n",
        "\n",
        "arr = np.array([10, 1 ,3 ,5 ,7 ,9 ,0 ,2 ,4 ,6, 8, 4])\n",
        "\n",
        "x = np.where(arr % 2 == 0)\n",
        "print(x)"
      ],
      "metadata": {
        "colab": {
          "base_uri": "https://localhost:8080/"
        },
        "id": "8mDiK7aylyMP",
        "outputId": "bee5f1b9-6b12-4591-fe3a-3d1048d2898c"
      },
      "execution_count": 62,
      "outputs": [
        {
          "output_type": "stream",
          "name": "stdout",
          "text": [
            "(array([ 0,  6,  7,  8,  9, 10, 11]),)\n"
          ]
        }
      ]
    },
    {
      "cell_type": "code",
      "source": [
        "# Filtering elements of an arrray\n",
        "\n",
        "import numpy as np\n",
        "arr = np.array([1 ,3 ,5 ,7])\n",
        "\n",
        "# using boolean index list -> filtering is done\n",
        "\n",
        "x = [True, False, True, False]\n",
        "\n",
        "new_arr = arr[x]\n",
        "print(new_arr)\n",
        "\n"
      ],
      "metadata": {
        "colab": {
          "base_uri": "https://localhost:8080/"
        },
        "id": "MHaCoURSmRTO",
        "outputId": "19a4d44d-676f-4d66-cddc-9c0e5a75c56e"
      },
      "execution_count": 63,
      "outputs": [
        {
          "output_type": "stream",
          "name": "stdout",
          "text": [
            "[1 5]\n"
          ]
        }
      ]
    },
    {
      "cell_type": "code",
      "source": [
        "# Gernerate random integer\n",
        "\n",
        "from numpy import random\n",
        "\n",
        "x = random.randint(100)\n",
        "print(x)"
      ],
      "metadata": {
        "colab": {
          "base_uri": "https://localhost:8080/"
        },
        "id": "TXjxjmdDv_HH",
        "outputId": "6d919633-0ccf-46e0-88c5-f4fd798648f2"
      },
      "execution_count": 66,
      "outputs": [
        {
          "output_type": "stream",
          "name": "stdout",
          "text": [
            "48\n"
          ]
        }
      ]
    },
    {
      "cell_type": "code",
      "source": [
        "# Generate random array\n",
        "\n",
        "from numpy import random\n",
        "\n",
        "for i in range(5):\n",
        "\n",
        "  x = random.randint(100, size = (5))\n",
        "  print(x)\n",
        "\n"
      ],
      "metadata": {
        "colab": {
          "base_uri": "https://localhost:8080/"
        },
        "id": "fo_wQ1I2wRa0",
        "outputId": "d5729855-76a7-4615-f358-d87545c7ad1d"
      },
      "execution_count": 68,
      "outputs": [
        {
          "output_type": "stream",
          "name": "stdout",
          "text": [
            "[28 54 83 31 35]\n",
            "[86 55  9  7 14]\n",
            "[ 2 72 88  2 40]\n",
            "[81 80 21 13 37]\n",
            "[87  2 89 32 14]\n"
          ]
        }
      ]
    },
    {
      "cell_type": "code",
      "source": [
        "import numpy as np\n",
        "\n",
        "arr = np.array([1, 2, 3, 4])\n",
        "\n",
        "print(arr[2] + arr[3])"
      ],
      "metadata": {
        "colab": {
          "base_uri": "https://localhost:8080/"
        },
        "id": "nVm__AV3wwJW",
        "outputId": "40eafd08-d90c-4c25-e9ec-f3fb721318b7"
      },
      "execution_count": 69,
      "outputs": [
        {
          "output_type": "stream",
          "name": "stdout",
          "text": [
            "7\n"
          ]
        }
      ]
    },
    {
      "cell_type": "code",
      "source": [
        "import numpy as np\n",
        "\n",
        "# Create a 3D array\n",
        "arr = np.array([\n",
        "    [\n",
        "        [1, 2, 3],\n",
        "        [4, 5, 6],\n",
        "    ],\n",
        "    [\n",
        "        [7, 8, 9],\n",
        "        [10, 11, 12],\n",
        "    ],\n",
        "    [\n",
        "        [13, 14, 15],\n",
        "        [16, 17, 18],\n",
        "    ]\n",
        "])\n",
        "\n",
        "# Print the 3D array\n",
        "print(arr)\n",
        "\n",
        "print(arr[0, 1, 2])\n"
      ],
      "metadata": {
        "colab": {
          "base_uri": "https://localhost:8080/"
        },
        "id": "SWfFJlfIxPCu",
        "outputId": "ae84f136-0c60-48e5-a9a1-6a3c1832af4b"
      },
      "execution_count": 71,
      "outputs": [
        {
          "output_type": "stream",
          "name": "stdout",
          "text": [
            "[[[ 1  2  3]\n",
            "  [ 4  5  6]]\n",
            "\n",
            " [[ 7  8  9]\n",
            "  [10 11 12]]\n",
            "\n",
            " [[13 14 15]\n",
            "  [16 17 18]]]\n",
            "6\n"
          ]
        }
      ]
    },
    {
      "cell_type": "code",
      "source": [
        "import numpy as np\n",
        "\n",
        "arr = np.array([1, 2, 3, 4, 5 , 6, 7])\n",
        "\n",
        "print(arr[::2])"
      ],
      "metadata": {
        "colab": {
          "base_uri": "https://localhost:8080/"
        },
        "id": "GDFWDnpGxmFB",
        "outputId": "4e744610-64f4-413f-ada8-257dc9615d1c"
      },
      "execution_count": 73,
      "outputs": [
        {
          "output_type": "stream",
          "name": "stdout",
          "text": [
            "[1 3 5 7]\n"
          ]
        }
      ]
    },
    {
      "cell_type": "code",
      "source": [
        "import numpy as np\n",
        "\n",
        "arr = np.array([1, 2, 3, 4, 5, 6,7, 8 ,9, 10, 11, 12])\n",
        "\n",
        "new_arr = arr.reshape(2, 3, 2)\n",
        "\n",
        "print(new_arr)"
      ],
      "metadata": {
        "colab": {
          "base_uri": "https://localhost:8080/"
        },
        "id": "CfJ5PnuXyA9l",
        "outputId": "a585a4ff-8e1d-47ea-9c6d-934abd39ac89"
      },
      "execution_count": 74,
      "outputs": [
        {
          "output_type": "stream",
          "name": "stdout",
          "text": [
            "[[[ 1  2]\n",
            "  [ 3  4]\n",
            "  [ 5  6]]\n",
            "\n",
            " [[ 7  8]\n",
            "  [ 9 10]\n",
            "  [11 12]]]\n"
          ]
        }
      ]
    }
  ]
}